{
 "cells": [
  {
   "cell_type": "code",
   "execution_count": 1,
   "id": "55350133-37d3-47e0-a60a-a20326bf56ee",
   "metadata": {},
   "outputs": [],
   "source": [
    "import numpy as np\n",
    "import pandas as pd\n",
    "import os\n",
    "import pickle\n",
    "import re\n",
    "from matplotlib import pyplot as plt\n",
    "\n",
    "import params\n",
    "from components import PrismaticLens\n",
    "from utils.xrtutils import get_minmax\n",
    "import xrt.backends.raycing.materials as rm\n",
    "from IPython.display import display, HTML"
   ]
  },
  {
   "cell_type": "code",
   "execution_count": 2,
   "id": "17c3e010-9156-405e-9bf2-d7c40762d64d",
   "metadata": {},
   "outputs": [
    {
     "data": {
      "text/html": [
       "<center><h1>Lens param optimization</h1></center>"
      ],
      "text/plain": [
       "<IPython.core.display.HTML object>"
      ]
     },
     "metadata": {},
     "output_type": "display_data"
    },
    {
     "data": {
      "text/html": [
       "<div>\n",
       "<style scoped>\n",
       "    .dataframe tbody tr th:only-of-type {\n",
       "        vertical-align: middle;\n",
       "    }\n",
       "\n",
       "    .dataframe tbody tr th {\n",
       "        vertical-align: top;\n",
       "    }\n",
       "\n",
       "    .dataframe thead tr th {\n",
       "        text-align: left;\n",
       "    }\n",
       "\n",
       "    .dataframe thead tr:last-of-type th {\n",
       "        text-align: right;\n",
       "    }\n",
       "</style>\n",
       "<table border=\"1\" class=\"dataframe\">\n",
       "  <thead>\n",
       "    <tr>\n",
       "      <th></th>\n",
       "      <th colspan=\"3\" halign=\"left\">Al</th>\n",
       "      <th colspan=\"3\" halign=\"left\">Be</th>\n",
       "      <th colspan=\"3\" halign=\"left\">Gr</th>\n",
       "    </tr>\n",
       "    <tr>\n",
       "      <th></th>\n",
       "      <th>Apt [mm]</th>\n",
       "      <th>L [mm]</th>\n",
       "      <th>y_t [mm]</th>\n",
       "      <th>Apt [mm]</th>\n",
       "      <th>L [mm]</th>\n",
       "      <th>y_t [mm]</th>\n",
       "      <th>Apt [mm]</th>\n",
       "      <th>L [mm]</th>\n",
       "      <th>y_t [mm]</th>\n",
       "    </tr>\n",
       "    <tr>\n",
       "      <th>E [keV]</th>\n",
       "      <th></th>\n",
       "      <th></th>\n",
       "      <th></th>\n",
       "      <th></th>\n",
       "      <th></th>\n",
       "      <th></th>\n",
       "      <th></th>\n",
       "      <th></th>\n",
       "      <th></th>\n",
       "    </tr>\n",
       "  </thead>\n",
       "  <tbody>\n",
       "    <tr>\n",
       "      <th>30</th>\n",
       "      <td>1.359426</td>\n",
       "      <td>8.929917</td>\n",
       "      <td>0.371576</td>\n",
       "      <td>3.271974</td>\n",
       "      <td>82.242216</td>\n",
       "      <td>0.894339</td>\n",
       "      <td>2.876123</td>\n",
       "      <td>48.519463</td>\n",
       "      <td>0.78614</td>\n",
       "    </tr>\n",
       "    <tr>\n",
       "      <th>35</th>\n",
       "      <td>1.407179</td>\n",
       "      <td>13.030645</td>\n",
       "      <td>0.384629</td>\n",
       "      <td>2.873429</td>\n",
       "      <td>86.333604</td>\n",
       "      <td>0.785404</td>\n",
       "      <td>2.620122</td>\n",
       "      <td>54.811442</td>\n",
       "      <td>0.716167</td>\n",
       "    </tr>\n",
       "    <tr>\n",
       "      <th>40</th>\n",
       "      <td>1.432371</td>\n",
       "      <td>17.64132</td>\n",
       "      <td>0.391515</td>\n",
       "      <td>2.558494</td>\n",
       "      <td>89.40025</td>\n",
       "      <td>0.699322</td>\n",
       "      <td>2.389266</td>\n",
       "      <td>59.533857</td>\n",
       "      <td>0.653066</td>\n",
       "    </tr>\n",
       "  </tbody>\n",
       "</table>\n",
       "</div>"
      ],
      "text/plain": [
       "               Al                             Be                       \\\n",
       "         Apt [mm]     L [mm]  y_t [mm]  Apt [mm]     L [mm]  y_t [mm]   \n",
       "E [keV]                                                                 \n",
       "30       1.359426   8.929917  0.371576  3.271974  82.242216  0.894339   \n",
       "35       1.407179  13.030645  0.384629  2.873429  86.333604  0.785404   \n",
       "40       1.432371   17.64132  0.391515  2.558494   89.40025  0.699322   \n",
       "\n",
       "               Gr                       \n",
       "         Apt [mm]     L [mm]  y_t [mm]  \n",
       "E [keV]                                 \n",
       "30       2.876123  48.519463   0.78614  \n",
       "35       2.620122  54.811442  0.716167  \n",
       "40       2.389266  59.533857  0.653066  "
      ]
     },
     "metadata": {},
     "output_type": "display_data"
    },
    {
     "data": {
      "text/html": [
       "<div>\n",
       "<style scoped>\n",
       "    .dataframe tbody tr th:only-of-type {\n",
       "        vertical-align: middle;\n",
       "    }\n",
       "\n",
       "    .dataframe tbody tr th {\n",
       "        vertical-align: top;\n",
       "    }\n",
       "\n",
       "    .dataframe thead th {\n",
       "        text-align: right;\n",
       "    }\n",
       "</style>\n",
       "<table border=\"1\" class=\"dataframe\">\n",
       "  <thead>\n",
       "    <tr style=\"text-align: right;\">\n",
       "      <th></th>\n",
       "      <th>y_t [mm]</th>\n",
       "      <th>L [mm]</th>\n",
       "    </tr>\n",
       "  </thead>\n",
       "  <tbody>\n",
       "    <tr>\n",
       "      <th>Be</th>\n",
       "      <td>0.89</td>\n",
       "      <td>89</td>\n",
       "    </tr>\n",
       "    <tr>\n",
       "      <th>Al</th>\n",
       "      <td>0.39</td>\n",
       "      <td>18</td>\n",
       "    </tr>\n",
       "    <tr>\n",
       "      <th>Gr</th>\n",
       "      <td>0.79</td>\n",
       "      <td>60</td>\n",
       "    </tr>\n",
       "  </tbody>\n",
       "</table>\n",
       "</div>"
      ],
      "text/plain": [
       "   y_t [mm] L [mm]\n",
       "Be     0.89     89\n",
       "Al     0.39     18\n",
       "Gr     0.79     60"
      ]
     },
     "metadata": {},
     "output_type": "display_data"
    }
   ],
   "source": [
    "mBeryllium = rm.Material('Be', rho=1.848, kind='lens')\n",
    "mAl = rm.Material('Al', rho=2.7, kind='lens')\n",
    "mDiamond = rm.Material('C', rho=3.5, kind='lens')\n",
    "mGraphite = rm.Material('C', rho=2.15, kind='lens')\n",
    "\n",
    "fdist = 25.8e3  # mm\n",
    "ens = np.array([30., 35., 40.]) * 1.e3 # eV\n",
    "optimal_geometry = pd.DataFrame(\n",
    "    columns=pd.MultiIndex.from_product([['Be', 'Al', 'Gr'], ['y_t [mm]', 'L [mm]', 'Apt [mm]']]),\n",
    ")\n",
    "optimal_geometry['E [keV]'] = (ens * 1e-3).astype(int)\n",
    "optimal_geometry = optimal_geometry.set_index('E [keV]')\n",
    "optimal_geometry = optimal_geometry.sort_index(axis=1)\n",
    "\n",
    "for mat, cpt in zip((mBeryllium, mAl, mGraphite), ('Be', 'Al', 'Gr')):\n",
    "    for en_ in ens:\n",
    "        opt_pars = PrismaticLens.calc_optimal_params(mat, fdist, en_)\n",
    "        optimal_geometry.loc[int(1e-3 * en_), (cpt, 'y_t [mm]')] = opt_pars['y_t']\n",
    "        optimal_geometry.loc[int(1e-3 * en_), (cpt, 'L [mm]')] = opt_pars['L']\n",
    "        optimal_geometry.loc[int(1e-3 * en_), (cpt, 'Apt [mm]')] = opt_pars['Aperture']\n",
    "\n",
    "fixed_geometry = pd.DataFrame(index=['Be', 'Al', 'Gr'], columns=['y_t [mm]', 'L [mm]'])\n",
    "for m_name in ['Be', 'Al', 'Gr']:\n",
    "    fixed_geometry.loc[m_name, 'y_t [mm]'] = np.round(np.max(optimal_geometry.loc[:, (m_name, 'y_t [mm]')]), decimals=2)\n",
    "    fixed_geometry.loc[m_name, 'L [mm]'] = int(np.round(np.max(optimal_geometry.loc[:, (m_name, 'L [mm]')]), decimals=0))\n",
    "\n",
    "display(HTML('<center><h1>Lens param optimization</h1></center>'))\n",
    "display(optimal_geometry)\n",
    "display(fixed_geometry)"
   ]
  },
  {
   "cell_type": "code",
   "execution_count": 6,
   "id": "18ce4b1f-6364-44aa-a70b-134ef89d0a80",
   "metadata": {},
   "outputs": [
    {
     "name": "stdout",
     "output_type": "stream",
     "text": [
      "0.14218750000000005\n",
      "0.13125\n",
      "1.0171875\n"
     ]
    },
    {
     "data": {
      "image/png": "[encoded data removed]",
      "text/plain": [
       "<Figure size 640x480 with 1 Axes>"
      ]
     },
     "metadata": {},
     "output_type": "display_data"
    }
   ],
   "source": [
    "for dd in [\"1mm_be_lens\", \"1mm_gr_lens\", \"1mm_no_lens\"]:\n",
    "    dd = os.path.join(os.getenv(\"BASE_DIR\", \"\"), \"datasets\", \"skif13\", dd)\n",
    "\n",
    "    ens, ws, flux = [], [], []\n",
    "    for fname in sorted(filter(lambda x: x.endswith('.pickle') and x.startswith('Sample Monitor'), os.listdir(dd))):\n",
    "        mtc = re.match(r'[\\w ]+ \\[(?P<pos>[\\w\\d\\. ]+)\\] \\[(?P<en>[\\w\\d\\. ]+)\\].pickle', fname)\n",
    "        ens.append(float(mtc.groupdict()['en'].split(' ')[0]))\n",
    "        with open(os.path.join(dd, fname), 'rb') as f:\n",
    "            data = pickle.load(f)\n",
    "            flux.append(data.flux)\n",
    "            mm = get_minmax(data, 'y', fadeout=5e-2)\n",
    "            ws.append(mm[1] - mm[0])\n",
    "    print(min(ws))\n",
    "\n",
    "    ens, ws, flux = np.array(ens), np.array(ws), np.array(flux)\n",
    "    plt.semilogy(ens, flux, linestyle='-', marker='.', label=os.path.basename(dd))\n",
    "plt.xlabel('Энергия [кэВ]')\n",
    "plt.ylabel('Поток [ф/с]')\n",
    "plt.title('Поток на выходной щели 1 мм')\n",
    "plt.legend(loc='lower left')\n",
    "plt.show()"
   ]
  },
  {
   "cell_type": "code",
   "execution_count": null,
   "id": "a126ee74-bc82-4bfe-8968-da2621d62b9a",
   "metadata": {},
   "outputs": [],
   "source": []
  },
  {
   "cell_type": "code",
   "execution_count": null,
   "id": "08db3e9f-3d33-425d-a549-a1bb82bb70da",
   "metadata": {},
   "outputs": [],
   "source": []
  }
 ],
 "metadata": {
  "kernelspec": {
   "display_name": "Python 3 (ipykernel)",
   "language": "python",
   "name": "python3"
  },
  "language_info": {
   "codemirror_mode": {
    "name": "ipython",
    "version": 3
   },
   "file_extension": ".py",
   "mimetype": "text/x-python",
   "name": "python",
   "nbconvert_exporter": "python",
   "pygments_lexer": "ipython3",
   "version": "3.8.13"
  }
 },
 "nbformat": 4,
 "nbformat_minor": 5
}
