{
 "cells": [
  {
   "cell_type": "markdown",
   "id": "78a4be13-de01-4859-987b-edaf2ca4aa26",
   "metadata": {},
   "source": [
    "# Do I want this wiggler?"
   ]
  },
  {
   "cell_type": "markdown",
   "id": "2ff3ace6-044d-4499-b6d6-736a39b7457d",
   "metadata": {},
   "source": [
    "## Imports"
   ]
  },
  {
   "cell_type": "code",
   "execution_count": 1,
   "id": "255b289b-2bfe-4c85-9537-5b970b9edc05",
   "metadata": {},
   "outputs": [
    {
     "name": "stderr",
     "output_type": "stream",
     "text": [
      "/nix/store/br42xxsq58x87i1w4lh2vnz807fw84b3-python3.12-pytools-2025.1.1/lib/python3.12/site-packages/pytools/persistent_dict.py:52: RecommendedHashNotFoundWarning:\n",
      "\n",
      "Unable to import recommended hash 'siphash24.siphash13', falling back to 'hashlib.sha256'. Run 'python3 -m pip install siphash24' to install the recommended hash.\n",
      "\n"
     ]
    }
   ],
   "source": [
    "import numpy as np\n",
    "import pandas as pd\n",
    "import plotly.graph_objects as go\n",
    "from plotly.subplots import make_subplots\n",
    "import plotly.io as pio\n",
    "pio.renderers.default = 'iframe'\n",
    "import params.sources as ps\n",
    "import params.params_1_5 as p15\n",
    "\n",
    "import xrt.backends.raycing.materials as rm\n",
    "import xrt.backends.raycing.sources as rsources\n",
    "\n"
   ]
  },
  {
   "cell_type": "markdown",
   "id": "7ed82f9c-b9c0-498b-8dea-62a63a422ddc",
   "metadata": {},
   "source": [
    "## Wiggler spectrum"
   ]
  },
  {
   "cell_type": "code",
   "execution_count": 2,
   "id": "64a410f3-925b-4c90-bd85-e8a6012cf671",
   "metadata": {},
   "outputs": [
    {
     "name": "stderr",
     "output_type": "stream",
     "text": [
      "/nix/store/i63lpv0lgmz4gmar81x5rxksyc2nm66f-python3.12-plotly-5.24.1/lib/python3.12/site-packages/plotly/graph_objs/_deprecations.py:378: DeprecationWarning:\n",
      "\n",
      "plotly.graph_objs.Line is deprecated.\n",
      "Please replace it with one of the following more specific types\n",
      "  - plotly.graph_objs.scatter.Line\n",
      "  - plotly.graph_objs.layout.shape.Line\n",
      "  - etc.\n",
      "\n",
      "\n"
     ]
    },
    {
     "data": {
      "text/html": [
       "<iframe\n",
       "    scrolling=\"no\"\n",
       "    width=\"100%\"\n",
       "    height=\"545px\"\n",
       "    src=\"iframe_figures/figure_2.html\"\n",
       "    frameborder=\"0\"\n",
       "    allowfullscreen\n",
       "></iframe>\n"
      ]
     },
     "metadata": {},
     "output_type": "display_data"
    }
   ],
   "source": [
    "energy = np.linspace(1.0e3, 91.0e3, 401)\n",
    "\n",
    "theta = np.linspace(-p15.front_end_h_angle, p15.front_end_h_angle, 51) / 2.\n",
    "psi = np.linspace(-p15.front_end_v_angle, p15.front_end_v_angle, 51) / 2.\n",
    "\n",
    "source = rsources.Wiggler(\n",
    "    eMin=energy[0],\n",
    "    eMax=energy[-1],\n",
    "    distE='BW',\n",
    "    # xPrimeMax=theta[-1] * 1e3,\n",
    "    # zPrimeMax=psi[-1] * 1e3,\n",
    "    **ps.ring_kwargs,\n",
    "    **ps.wiggler_1_5_kwargs\n",
    ")\n",
    "\n",
    "I0, l1, l2, l3 = source.intensities_on_mesh(energy, theta, psi)\n",
    "\n",
    "dtheta, dpsi = theta[1] - theta[0], psi[1] - psi[0]\n",
    "flux = I0.sum(axis=(1, 2)) * dtheta * dpsi\n",
    "\n",
    "# plotting\n",
    "fig = go.Figure()\n",
    "fig.add_trace(go.Line(x=energy * 1e-3, y=flux))\n",
    "fig.show()\n"
   ]
  },
  {
   "cell_type": "markdown",
   "id": "7aa392c2-5409-4ce0-a1e8-0908b20d38d5",
   "metadata": {},
   "source": [
    "## Wiggler photon source size"
   ]
  },
  {
   "cell_type": "code",
   "execution_count": 3,
   "id": "e8e8e958-9e39-4f22-8e43-80817619fae0",
   "metadata": {},
   "outputs": [
    {
     "name": "stdout",
     "output_type": "stream",
     "text": [
      "0.9992977849128798\n"
     ]
    },
    {
     "data": {
      "text/html": [
       "<iframe\n",
       "    scrolling=\"no\"\n",
       "    width=\"100%\"\n",
       "    height=\"545px\"\n",
       "    src=\"iframe_figures/figure_3.html\"\n",
       "    frameborder=\"0\"\n",
       "    allowfullscreen\n",
       "></iframe>\n"
      ]
     },
     "metadata": {},
     "output_type": "display_data"
    }
   ],
   "source": [
    "energy = np.linspace(1.0e3, 91.0e3, 401)\n",
    "\n",
    "theta = np.linspace(-p15.front_end_h_angle, p15.front_end_h_angle, 51) / 2.\n",
    "psi = np.linspace(-p15.front_end_v_angle, p15.front_end_v_angle, 51) / 2.\n",
    "\n",
    "flux, theta2, psi2, dx2, dz2 = source.real_photon_source_sizes(energy, theta, psi)\n",
    "print(np.max(flux)/1e15)\n",
    "# plotting\n",
    "fig = go.Figure()\n",
    "fig.add_trace(go.Line(x=energy * 1e-3, y=2. * np.sqrt(2. * dx2 * np.log(2)), name = \"x FWHM [mm]\"))\n",
    "fig.add_trace(go.Line(x=energy * 1e-3, y=2. * np.sqrt(2. * dz2 * np.log(2)), name = \"z FWHM [mm]\"))\n",
    "fig.show()"
   ]
  }
 ],
 "metadata": {
  "kernelspec": {
   "display_name": "Python 3 (ipykernel)",
   "language": "python",
   "name": "python3"
  },
  "language_info": {
   "codemirror_mode": {
    "name": "ipython",
    "version": 3
   },
   "file_extension": ".py",
   "mimetype": "text/x-python",
   "name": "python",
   "nbconvert_exporter": "python",
   "pygments_lexer": "ipython3",
   "version": "3.12.7"
  }
 },
 "nbformat": 4,
 "nbformat_minor": 5
}
