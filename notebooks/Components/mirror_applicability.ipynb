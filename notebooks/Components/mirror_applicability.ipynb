{
 "cells": [
  {
   "cell_type": "markdown",
   "id": "08570f3d-38c7-4ffe-ae5a-01ab8db7b3f1",
   "metadata": {},
   "source": [
    "# Do I want this mirror?\n",
    "\n",
    "Calculating mirror reflectivity curves for a Si substrate and various coatings and energies"
   ]
  },
  {
   "cell_type": "markdown",
   "id": "ebad2285-107d-44a1-833e-f4eec46ba244",
   "metadata": {},
   "source": [
    "## Imports"
   ]
  },
  {
   "cell_type": "code",
   "execution_count": 8,
   "id": "dadb30eb-4283-41ce-9c9a-e2d6c3526863",
   "metadata": {},
   "outputs": [],
   "source": [
    "import warnings\n",
    "warnings.filterwarnings('ignore')\n",
    "\n",
    "import numpy as np\n",
    "import pandas as pd\n",
    "import xrt.backends.raycing.materials as rm\n",
    "from xrt.backends.raycing.materials_elemental import Si, Pt, Rh, W, Cu, Ni, Cr, Ti, Zr, Be, In, Ir\n",
    "import plotly.graph_objects as go\n",
    "from plotly.subplots import make_subplots\n",
    "import plotly.io as pio\n",
    "pio.renderers.default = 'svg'\n",
    "# pio.renderers.default = 'iframe'\n",
    "\n",
    "# working energies\n",
    "ens = [8000, 15000, 17000]  # eV\n",
    "# maximum length of a reasonably priced mirror\n",
    "mlen = 300  # mm"
   ]
  },
  {
   "cell_type": "markdown",
   "id": "90814c87-12ea-49b0-b13f-68e2af261e12",
   "metadata": {},
   "source": [
    "## Mirror reflectivity\n",
    "Here we compare a Si mirror with a Si + 100 AA Ir coating reflectivity.\n",
    "On the plots x axis is beam height, which is length of the mirror `mlen` multiplied by sine of the incidence angle, giving the maximum cross-section of the reflected beam."
   ]
  },
  {
   "cell_type": "code",
   "execution_count": 9,
   "id": "c6cd1ab2-7e6d-452f-8b02-2955769a9b01",
   "metadata": {},
   "outputs": [
    {
     "data": {
      "image/svg+xml": [
       "<svg class=\"main-svg\" xmlns=\"http://www.w3.org/2000/svg\" xmlns:xlink=\"http://www.w3.org/1999/xlink\" width=\"700\" height=\"500\" style=\"\" viewBox=\"0 0 700 500\"><rect x=\"0\" y=\"0\" width=\"700\" height=\"500\" style=\"fill: rgb(255, 255, 255); fill-opacity: 1;\"/><defs id=\"defs-f75840\"><g class=\"clips\"><clipPath id=\"clipf75840xyplot\" class=\"plotclip\"><rect width=\"434\" height=\"136\"/></clipPath><clipPath id=\"clipf75840x2y2plot\" class=\"plotclip\"><rect width=\"434\" height=\"136\"/></clipPath><clipPath class=\"axesclip\" id=\"clipf75840x\"><rect x=\"80\" y=\"0\" width=\"434\" height=\"500\"/></clipPath><clipPath class=\"axesclip\" id=\"clipf75840y\"><rect x=\"0\" y=\"100\" width=\"700\" height=\"136\"/></clipPath><clipPath class=\"axesclip\" id=\"clipf75840xy\"><rect x=\"80\" y=\"100\" width=\"434\" height=\"136\"/></clipPath><clipPath class=\"axesclip\" id=\"clipf75840y2\"><rect x=\"0\" y=\"284\" width=\"700\" height=\"136\"/></clipPath><clipPath class=\"axesclip\" id=\"clipf75840xy2\"><rect x=\"80\" y=\"284\" width=\"434\" height=\"136\"/></clipPath><clipPath class=\"axesclip\" id=\"clipf75840x2\"><rect x=\"80\" y=\"0\" width=\"434\" height=\"500\"/></clipPath><clipPath class=\"axesclip\" id=\"clipf75840x2y\"><rect x=\"80\" y=\"100\" width=\"434\" height=\"136\"/></clipPath><clipPath class=\"axesclip\" id=\"clipf75840x2y2\"><rect x=\"80\" y=\"284\" width=\"434\" height=\"136\"/></clipPath></g><g class=\"gradients\"/><g class=\"patterns\"/></defs><g class=\"bglayer\"><rect class=\"bg\" x=\"80\" y=\"100\" width=\"434\" height=\"136\" style=\"fill: rgb(229, 236, 246); fill-opacity: 1; stroke-width: 0;\"/><rect class=\"bg\" x=\"80\" y=\"284\" width=\"434\" height=\"136\" style=\"fill: rgb(229, 236, 246); fill-opacity: 1; stroke-width: 0;\"/></g><g class=\"layer-below\"><g class=\"imagelayer\"/><g class=\"shapelayer\"/></g><g class=\"cartesianlayer\"><g class=\"subplot xy\"><g class=\"layer-subplot\"><g class=\"shapelayer\"/><g class=\"imagelayer\"/></g><g class=\"minor-gridlayer\"><g class=\"x\"/><g class=\"y\"/></g><g class=\"gridlayer\"><g class=\"x\"><path class=\"xgrid crisp\" transform=\"translate(207.95,0)\" d=\"M0,100v136\" style=\"stroke: rgb(255, 255, 255); stroke-opacity: 1; stroke-width: 1px;\"/><path class=\"xgrid crisp\" transform=\"translate(350.86,0)\" d=\"M0,100v136\" style=\"stroke: rgb(255, 255, 255); stroke-opacity: 1; stroke-width: 1px;\"/><path class=\"xgrid crisp\" transform=\"translate(493.77,0)\" d=\"M0,100v136\" style=\"stroke: rgb(255, 255, 255); stroke-opacity: 1; stroke-width: 1px;\"/></g><g class=\"y\"><path class=\"ygrid crisp\" transform=\"translate(0,168)\" d=\"M80,0h434\" style=\"stroke: rgb(255, 255, 255); stroke-opacity: 1; stroke-width: 1px;\"/><path class=\"ygrid crisp\" transform=\"translate(0,106.67)\" d=\"M80,0h434\" style=\"stroke: rgb(255, 255, 255); stroke-opacity: 1; stroke-width: 1px;\"/></g></g><g class=\"zerolinelayer\"><path class=\"yzl zl crisp\" transform=\"translate(0,229.33)\" d=\"M80,0h434\" style=\"stroke: rgb(255, 255, 255); stroke-opacity: 1; stroke-width: 2px;\"/></g><g class=\"layer-between\"><g class=\"shapelayer\"/><g class=\"imagelayer\"/></g><path class=\"xlines-below\"/><path class=\"ylines-below\"/><g class=\"overlines-below\"/><g class=\"xaxislayer-below\"/><g class=\"yaxislayer-below\"/><g class=\"overaxes-below\"/><g class=\"overplot\"><g class=\"xy\" transform=\"translate(80,100)\" clip-path=\"url(#clipf75840xyplot)\"><g class=\"scatterlayer mlayer\"><g class=\"trace scatter trace22a73a\" style=\"stroke-miterlimit: 2; opacity: 1;\"><g class=\"fills\"/><g class=\"errorbars\"/><g class=\"lines\"><path class=\"js-line\" d=\"M0,6.93L221.13,12.28L221.56,12.3L262.4,14.89L262.83,14.93L285.42,17.73L285.86,17.81L297.15,20.38L297.59,20.51L305.41,23.61L305.84,23.85L311.06,27.52L311.49,27.93L314.97,32.26L315.4,32.98L318.44,39.96L318.88,41.31L322.35,55.48L322.79,57.43L327.13,73.83L327.56,75.12L332.34,86.29L332.78,87.09L337.99,94.93L338.43,95.47L344.51,101.67L344.94,102.04L352.76,107.5L353.2,107.75L361.88,111.94L362.32,112.11L372.31,115.5L372.75,115.63L387.95,119.1L388.38,119.18L407.93,122L408.37,122.05L434,124.3\" style=\"vector-effect: none; fill: none; stroke: rgb(99, 110, 250); stroke-opacity: 1; stroke-width: 2px; opacity: 1;\"/></g><g class=\"points\"/><g class=\"text\"/></g><g class=\"trace scatter trace8cc5cd\" style=\"stroke-miterlimit: 2; opacity: 1;\"><g class=\"fills\"/><g class=\"errorbars\"/><g class=\"lines\"><path class=\"js-line\" d=\"M0,6.82L67.77,7.57L68.21,7.58L109.04,8.33L109.48,8.34L142.06,9.84L142.5,9.88L153.79,11.64L154.22,11.76L158.57,13.78L159,14.12L161.18,17.12L161.61,18.27L162.48,22.29L162.91,26.31L166.39,71.08L166.82,73.91L169.86,87.74L170.3,89.17L173.77,97.96L174.21,98.82L178.55,105.59L178.99,106.13L184.2,111.3L184.64,111.65L190.72,115.6L191.15,115.83L198.97,119.15L199.41,119.3L209.4,122L209.83,122.09L225.91,124.62L226.34,124.68L260.23,127.09L260.66,127.11L358.84,128.82L359.28,128.82L399.68,129.01L400.11,129.01L434,129.11\" style=\"vector-effect: none; fill: none; stroke: rgb(239, 85, 59); stroke-opacity: 1; stroke-width: 2px; opacity: 1;\"/></g><g class=\"points\"/><g class=\"text\"/></g><g class=\"trace scatter tracebc3c18\" style=\"stroke-miterlimit: 2; opacity: 1;\"><g class=\"fills\"/><g class=\"errorbars\"/><g class=\"lines\"><path class=\"js-line\" d=\"M0,6.8L70.81,7.55L71.25,7.56L126.42,9.44L126.86,9.49L135.11,10.96L135.54,11.11L139.02,13.12L139.45,13.6L140.76,16.07L141.19,17.69L142.06,26.23L142.5,36.63L144.23,64.72L144.67,68.77L147.27,84.71L147.71,86.56L151.18,97.34L151.62,98.34L155.53,105.39L155.96,106.01L161.18,111.79L161.61,112.16L167.26,116.12L167.69,116.36L175.51,119.84L175.95,119.99L185.94,122.7L186.37,122.79L201.14,125.08L201.58,125.13L222.43,126.81L222.87,126.84L270.65,128.34L271.09,128.35L380.56,129.1L381,129.11L434,129.2\" style=\"vector-effect: none; fill: none; stroke: rgb(0, 204, 150); stroke-opacity: 1; stroke-width: 2px; opacity: 1;\"/></g><g class=\"points\"/><g class=\"text\"/></g></g></g></g><path class=\"xlines-above crisp\" d=\"M0,0\" style=\"fill: none;\"/><path class=\"ylines-above crisp\" d=\"M0,0\" style=\"fill: none;\"/><g class=\"overlines-above\"/><g class=\"xaxislayer-above\"><g class=\"xtick\"><text text-anchor=\"middle\" x=\"0\" y=\"249\" transform=\"translate(207.95,0)\" style=\"font-family: 'Open Sans', verdana, arial, sans-serif; font-size: 12px; fill: rgb(42, 63, 95); fill-opacity: 1; white-space: pre; opacity: 1;\">0.5</text></g><g class=\"xtick\"><text text-anchor=\"middle\" x=\"0\" y=\"249\" style=\"font-family: 'Open Sans', verdana, arial, sans-serif; font-size: 12px; fill: rgb(42, 63, 95); fill-opacity: 1; white-space: pre; opacity: 1;\" transform=\"translate(350.86,0)\">1</text></g><g class=\"xtick\"><text text-anchor=\"middle\" x=\"0\" y=\"249\" style=\"font-family: 'Open Sans', verdana, arial, sans-serif; font-size: 12px; fill: rgb(42, 63, 95); fill-opacity: 1; white-space: pre; opacity: 1;\" transform=\"translate(493.77,0)\">1.5</text></g></g><g class=\"yaxislayer-above\"><g class=\"ytick\"><text text-anchor=\"end\" x=\"79\" y=\"4.199999999999999\" transform=\"translate(0,229.33)\" style=\"font-family: 'Open Sans', verdana, arial, sans-serif; font-size: 12px; fill: rgb(42, 63, 95); fill-opacity: 1; white-space: pre; opacity: 1;\">0</text></g><g class=\"ytick\"><text text-anchor=\"end\" x=\"79\" y=\"4.199999999999999\" style=\"font-family: 'Open Sans', verdana, arial, sans-serif; font-size: 12px; fill: rgb(42, 63, 95); fill-opacity: 1; white-space: pre; opacity: 1;\" transform=\"translate(0,168)\">0.5</text></g><g class=\"ytick\"><text text-anchor=\"end\" x=\"79\" y=\"4.199999999999999\" style=\"font-family: 'Open Sans', verdana, arial, sans-serif; font-size: 12px; fill: rgb(42, 63, 95); fill-opacity: 1; white-space: pre; opacity: 1;\" transform=\"translate(0,106.67)\">1</text></g></g><g class=\"overaxes-above\"/></g><g class=\"subplot x2y2\"><g class=\"layer-subplot\"><g class=\"shapelayer\"/><g class=\"imagelayer\"/></g><g class=\"minor-gridlayer\"><g class=\"x2\"/><g class=\"y2\"/></g><g class=\"gridlayer\"><g class=\"x2\"><path class=\"x2grid crisp\" transform=\"translate(207.95,0)\" d=\"M0,284v136\" style=\"stroke: rgb(255, 255, 255); stroke-opacity: 1; stroke-width: 1px;\"/><path class=\"x2grid crisp\" transform=\"translate(350.86,0)\" d=\"M0,284v136\" style=\"stroke: rgb(255, 255, 255); stroke-opacity: 1; stroke-width: 1px;\"/><path class=\"x2grid crisp\" transform=\"translate(493.77,0)\" d=\"M0,284v136\" style=\"stroke: rgb(255, 255, 255); stroke-opacity: 1; stroke-width: 1px;\"/></g><g class=\"y2\"><path class=\"y2grid crisp\" transform=\"translate(0,354.32)\" d=\"M80,0h434\" style=\"stroke: rgb(255, 255, 255); stroke-opacity: 1; stroke-width: 1px;\"/><path class=\"y2grid crisp\" transform=\"translate(0,289.77)\" d=\"M80,0h434\" style=\"stroke: rgb(255, 255, 255); stroke-opacity: 1; stroke-width: 1px;\"/></g></g><g class=\"zerolinelayer\"><path class=\"y2zl zl crisp\" transform=\"translate(0,418.87)\" d=\"M80,0h434\" style=\"stroke: rgb(255, 255, 255); stroke-opacity: 1; stroke-width: 2px;\"/></g><g class=\"layer-between\"><g class=\"shapelayer\"/><g class=\"imagelayer\"/></g><path class=\"xlines-below\"/><path class=\"ylines-below\"/><g class=\"overlines-below\"/><g class=\"xaxislayer-below\"/><g class=\"yaxislayer-below\"/><g class=\"overaxes-below\"/><g class=\"overplot\"><g class=\"x2y2\" transform=\"translate(80,284)\" clip-path=\"url(#clipf75840x2y2plot)\"><g class=\"scatterlayer mlayer\"><g class=\"trace scatter tracedad12e\" style=\"stroke-miterlimit: 2; opacity: 1;\"><g class=\"fills\"/><g class=\"errorbars\"/><g class=\"lines\"><path class=\"js-line\" d=\"M0,6.8L434,37.11\" style=\"vector-effect: none; fill: none; stroke: rgb(171, 99, 250); stroke-opacity: 1; stroke-width: 2px; opacity: 1;\"/></g><g class=\"points\"/><g class=\"text\"/></g><g class=\"trace scatter traceac7ba2\" style=\"stroke-miterlimit: 2; opacity: 1;\"><g class=\"fills\"/><g class=\"errorbars\"/><g class=\"lines\"><path class=\"js-line\" d=\"M0,8.66L145.1,34.95L145.54,35.02L263.7,57.58L264.14,57.68L311.06,68.26L311.49,68.36L359.28,81.28L359.71,81.42L384.04,89.37L384.47,89.53L405.76,97.58L406.2,97.76L434,109.85\" style=\"vector-effect: none; fill: none; stroke: rgb(255, 161, 90); stroke-opacity: 1; stroke-width: 2px; opacity: 1;\"/></g><g class=\"points\"/><g class=\"text\"/></g><g class=\"trace scatter trace356493\" style=\"stroke-miterlimit: 2; opacity: 1;\"><g class=\"fills\"/><g class=\"errorbars\"/><g class=\"lines\"><path class=\"js-line\" d=\"M0,8.42L103.83,26.08L104.26,26.16L157.7,35.41L158.13,35.49L229.82,49.26L230.25,49.35L266.31,57.47L266.74,57.58L291.51,63.97L291.94,64.09L318.01,71.96L318.44,72.11L337.12,78.83L337.56,79L357.54,87.68L357.97,87.89L374.48,96.57L374.92,96.82L400.11,112.31L400.55,112.59L417.93,122.62L418.36,122.84L429.22,127.58L429.66,127.74L434,129.2\" style=\"vector-effect: none; fill: none; stroke: rgb(25, 211, 243); stroke-opacity: 1; stroke-width: 2px; opacity: 1;\"/></g><g class=\"points\"/><g class=\"text\"/></g></g></g></g><path class=\"xlines-above crisp\" d=\"M0,0\" style=\"fill: none;\"/><path class=\"ylines-above crisp\" d=\"M0,0\" style=\"fill: none;\"/><g class=\"overlines-above\"/><g class=\"xaxislayer-above\"><g class=\"x2tick\"><text text-anchor=\"middle\" x=\"0\" y=\"433\" transform=\"translate(207.95,0)\" style=\"font-family: 'Open Sans', verdana, arial, sans-serif; font-size: 12px; fill: rgb(42, 63, 95); fill-opacity: 1; white-space: pre; opacity: 1;\">0.5</text></g><g class=\"x2tick\"><text text-anchor=\"middle\" x=\"0\" y=\"433\" style=\"font-family: 'Open Sans', verdana, arial, sans-serif; font-size: 12px; fill: rgb(42, 63, 95); fill-opacity: 1; white-space: pre; opacity: 1;\" transform=\"translate(350.86,0)\">1</text></g><g class=\"x2tick\"><text text-anchor=\"middle\" x=\"0\" y=\"433\" style=\"font-family: 'Open Sans', verdana, arial, sans-serif; font-size: 12px; fill: rgb(42, 63, 95); fill-opacity: 1; white-space: pre; opacity: 1;\" transform=\"translate(493.77,0)\">1.5</text></g></g><g class=\"yaxislayer-above\"><g class=\"y2tick\"><text text-anchor=\"end\" x=\"79\" y=\"4.199999999999999\" transform=\"translate(0,418.87)\" style=\"font-family: 'Open Sans', verdana, arial, sans-serif; font-size: 12px; fill: rgb(42, 63, 95); fill-opacity: 1; white-space: pre; opacity: 1;\">0</text></g><g class=\"y2tick\"><text text-anchor=\"end\" x=\"79\" y=\"4.199999999999999\" style=\"font-family: 'Open Sans', verdana, arial, sans-serif; font-size: 12px; fill: rgb(42, 63, 95); fill-opacity: 1; white-space: pre; opacity: 1;\" transform=\"translate(0,354.32)\">0.5</text></g><g class=\"y2tick\"><text text-anchor=\"end\" x=\"79\" y=\"4.199999999999999\" style=\"font-family: 'Open Sans', verdana, arial, sans-serif; font-size: 12px; fill: rgb(42, 63, 95); fill-opacity: 1; white-space: pre; opacity: 1;\" transform=\"translate(0,289.77)\">1</text></g></g><g class=\"overaxes-above\"/></g></g><g class=\"polarlayer\"/><g class=\"smithlayer\"/><g class=\"ternarylayer\"/><g class=\"geolayer\"/><g class=\"funnelarealayer\"/><g class=\"pielayer\"/><g class=\"iciclelayer\"/><g class=\"treemaplayer\"/><g class=\"sunburstlayer\"/><g class=\"glimages\"/><defs id=\"topdefs-f75840\"><g class=\"clips\"/><clipPath id=\"legendf75840\"><rect width=\"165\" height=\"124\" x=\"0\" y=\"0\"/></clipPath></defs><g class=\"layer-above\"><g class=\"imagelayer\"/><g class=\"shapelayer\"/></g><g class=\"infolayer\"><g class=\"legend\" pointer-events=\"all\" transform=\"translate(522.6800000000001,100)\"><rect class=\"bg\" shape-rendering=\"crispEdges\" width=\"165\" height=\"124\" x=\"0\" y=\"0\" style=\"stroke: rgb(68, 68, 68); stroke-opacity: 1; fill: rgb(255, 255, 255); fill-opacity: 1; stroke-width: 0px;\"/><g class=\"scrollbox\" transform=\"\" clip-path=\"url(#legendf75840)\"><g class=\"groups\"><g class=\"traces\" transform=\"translate(0,14.5)\" style=\"opacity: 1;\"><text class=\"legendtext\" text-anchor=\"start\" x=\"40\" y=\"4.680000000000001\" style=\"font-family: 'Open Sans', verdana, arial, sans-serif; font-size: 12px; fill: rgb(42, 63, 95); fill-opacity: 1; white-space: pre;\">Silicon 8 keV</text><g class=\"layers\" style=\"opacity: 1;\"><g class=\"legendfill\"/><g class=\"legendlines\"><path class=\"js-line\" d=\"M5,0h30\" style=\"fill: none; stroke: rgb(99, 110, 250); stroke-opacity: 1; stroke-width: 2px;\"/></g><g class=\"legendsymbols\"><g class=\"legendpoints\"/></g></g><rect class=\"legendtoggle\" x=\"0\" y=\"-9.5\" width=\"159.0625\" height=\"19\" style=\"fill: rgb(0, 0, 0); fill-opacity: 0;\"/></g><g class=\"traces\" transform=\"translate(0,33.5)\" style=\"opacity: 1;\"><text class=\"legendtext\" text-anchor=\"start\" x=\"40\" y=\"4.680000000000001\" style=\"font-family: 'Open Sans', verdana, arial, sans-serif; font-size: 12px; fill: rgb(42, 63, 95); fill-opacity: 1; white-space: pre;\">Silicon 15 keV</text><g class=\"layers\" style=\"opacity: 1;\"><g class=\"legendfill\"/><g class=\"legendlines\"><path class=\"js-line\" d=\"M5,0h30\" style=\"fill: none; stroke: rgb(239, 85, 59); stroke-opacity: 1; stroke-width: 2px;\"/></g><g class=\"legendsymbols\"><g class=\"legendpoints\"/></g></g><rect class=\"legendtoggle\" x=\"0\" y=\"-9.5\" width=\"159.0625\" height=\"19\" style=\"fill: rgb(0, 0, 0); fill-opacity: 0;\"/></g><g class=\"traces\" transform=\"translate(0,52.5)\" style=\"opacity: 1;\"><text class=\"legendtext\" text-anchor=\"start\" x=\"40\" y=\"4.680000000000001\" style=\"font-family: 'Open Sans', verdana, arial, sans-serif; font-size: 12px; fill: rgb(42, 63, 95); fill-opacity: 1; white-space: pre;\">Silicon 17 keV</text><g class=\"layers\" style=\"opacity: 1;\"><g class=\"legendfill\"/><g class=\"legendlines\"><path class=\"js-line\" d=\"M5,0h30\" style=\"fill: none; stroke: rgb(0, 204, 150); stroke-opacity: 1; stroke-width: 2px;\"/></g><g class=\"legendsymbols\"><g class=\"legendpoints\"/></g></g><rect class=\"legendtoggle\" x=\"0\" y=\"-9.5\" width=\"159.0625\" height=\"19\" style=\"fill: rgb(0, 0, 0); fill-opacity: 0;\"/></g><g class=\"traces\" transform=\"translate(0,71.5)\" style=\"opacity: 1;\"><text class=\"legendtext\" text-anchor=\"start\" x=\"40\" y=\"4.680000000000001\" style=\"font-family: 'Open Sans', verdana, arial, sans-serif; font-size: 12px; fill: rgb(42, 63, 95); fill-opacity: 1; white-space: pre;\">Silicon+Iridium 8 keV</text><g class=\"layers\" style=\"opacity: 1;\"><g class=\"legendfill\"/><g class=\"legendlines\"><path class=\"js-line\" d=\"M5,0h30\" style=\"fill: none; stroke: rgb(171, 99, 250); stroke-opacity: 1; stroke-width: 2px;\"/></g><g class=\"legendsymbols\"><g class=\"legendpoints\"/></g></g><rect class=\"legendtoggle\" x=\"0\" y=\"-9.5\" width=\"159.0625\" height=\"19\" style=\"fill: rgb(0, 0, 0); fill-opacity: 0;\"/></g><g class=\"traces\" transform=\"translate(0,90.5)\" style=\"opacity: 1;\"><text class=\"legendtext\" text-anchor=\"start\" x=\"40\" y=\"4.680000000000001\" style=\"font-family: 'Open Sans', verdana, arial, sans-serif; font-size: 12px; fill: rgb(42, 63, 95); fill-opacity: 1; white-space: pre;\">Silicon+Iridium 15 keV</text><g class=\"layers\" style=\"opacity: 1;\"><g class=\"legendfill\"/><g class=\"legendlines\"><path class=\"js-line\" d=\"M5,0h30\" style=\"fill: none; stroke: rgb(255, 161, 90); stroke-opacity: 1; stroke-width: 2px;\"/></g><g class=\"legendsymbols\"><g class=\"legendpoints\"/></g></g><rect class=\"legendtoggle\" x=\"0\" y=\"-9.5\" width=\"159.0625\" height=\"19\" style=\"fill: rgb(0, 0, 0); fill-opacity: 0;\"/></g><g class=\"traces\" transform=\"translate(0,109.5)\" style=\"opacity: 1;\"><text class=\"legendtext\" text-anchor=\"start\" x=\"40\" y=\"4.680000000000001\" style=\"font-family: 'Open Sans', verdana, arial, sans-serif; font-size: 12px; fill: rgb(42, 63, 95); fill-opacity: 1; white-space: pre;\">Silicon+Iridium 17 keV</text><g class=\"layers\" style=\"opacity: 1;\"><g class=\"legendfill\"/><g class=\"legendlines\"><path class=\"js-line\" d=\"M5,0h30\" style=\"fill: none; stroke: rgb(25, 211, 243); stroke-opacity: 1; stroke-width: 2px;\"/></g><g class=\"legendsymbols\"><g class=\"legendpoints\"/></g></g><rect class=\"legendtoggle\" x=\"0\" y=\"-9.5\" width=\"159.0625\" height=\"19\" style=\"fill: rgb(0, 0, 0); fill-opacity: 0;\"/></g></g></g><rect class=\"scrollbar\" rx=\"20\" ry=\"3\" width=\"0\" height=\"0\" x=\"0\" y=\"0\" style=\"fill: rgb(128, 139, 164); fill-opacity: 1;\"/></g><g class=\"g-gtitle\"><text class=\"gtitle\" x=\"35\" y=\"50\" text-anchor=\"start\" dy=\"0em\" style=\"opacity: 1; font-family: 'Open Sans', verdana, arial, sans-serif; font-size: 17px; fill: rgb(42, 63, 95); fill-opacity: 1; white-space: pre;\">Pure Si vs Si + 10 nm Iridium coating</text></g><g class=\"g-xtitle\"><text class=\"xtitle\" x=\"297\" y=\"276.3\" text-anchor=\"middle\" style=\"opacity: 1; font-family: 'Open Sans', verdana, arial, sans-serif; font-size: 14px; fill: rgb(42, 63, 95); fill-opacity: 1; white-space: pre;\">Beam height [mm]</text></g><g class=\"g-x2title\"><text class=\"x2title\" x=\"297\" y=\"460.3\" text-anchor=\"middle\" style=\"opacity: 1; font-family: 'Open Sans', verdana, arial, sans-serif; font-size: 14px; fill: rgb(42, 63, 95); fill-opacity: 1; white-space: pre;\">Beam height [mm]</text></g><g class=\"g-ytitle\"><text class=\"ytitle\" transform=\"rotate(-90,42.9125,168)\" x=\"42.9125\" y=\"168\" text-anchor=\"middle\" style=\"opacity: 1; font-family: 'Open Sans', verdana, arial, sans-serif; font-size: 14px; fill: rgb(42, 63, 95); fill-opacity: 1; white-space: pre;\">Reflectivity</text></g><g class=\"g-y2title\"><text class=\"y2title\" transform=\"rotate(-90,42.9125,352)\" x=\"42.9125\" y=\"352\" text-anchor=\"middle\" style=\"opacity: 1; font-family: 'Open Sans', verdana, arial, sans-serif; font-size: 14px; fill: rgb(42, 63, 95); fill-opacity: 1; white-space: pre;\">Reflectivity</text></g></g></svg>"
      ]
     },
     "metadata": {},
     "output_type": "display_data"
    }
   ],
   "source": [
    "substrate = Si(kind=\"mirror\")\n",
    "coating = Ir(kind=\"mirror\")\n",
    "coating_th = 100\n",
    "cMirror = rm.Coated(\n",
    "    coating=coating,\n",
    "    cThickness=coating_th,\n",
    "    substrate=substrate,\n",
    "    surfaceRoughness=30,\n",
    "    substRoughness=30,\n",
    ")\n",
    "\n",
    "theta = np.linspace(np.radians(0.01), np.radians(0.3), 1000)\n",
    "beam_height = mlen * np.sin(theta)\n",
    "\n",
    "fig = make_subplots(rows=2, cols=1)\n",
    "for en in ens:\n",
    "    rs, rp = substrate.get_amplitude(en, np.sin(theta))[0:2]\n",
    "    fig.add_trace(go.Line(name=f\"{substrate.name} {en//1000} keV\", x=beam_height, y=np.abs(rs)**2))\n",
    "fig.update_layout(\n",
    "    title=dict(text=f\"Pure Si vs Si + {coating_th // 10} nm {coating.name} coating\"),\n",
    ")\n",
    "for en in ens:\n",
    "    rs, rp = cMirror.get_amplitude(en, np.sin(theta))[0:2]\n",
    "    fig.add_trace(go.Line(name=f\"{substrate.name}+{coating.name} {en//1000} keV\", x=beam_height, y=np.abs(rs)**2), row=2,col=1)\n",
    "fig.update_yaxes(title_text=\"Reflectivity\", row=1, col=1)\n",
    "fig.update_yaxes(title_text=\"Reflectivity\", row=2, col=1)\n",
    "fig.update_xaxes(title_text=\"Beam height [mm]\", row=1, col=1)\n",
    "fig.update_xaxes(title_text=\"Beam height [mm]\", row=2, col=1)\n",
    "fig.show()"
   ]
  }
 ],
 "metadata": {
  "kernelspec": {
   "display_name": "Python 3 (ipykernel)",
   "language": "python",
   "name": "python3"
  },
  "language_info": {
   "codemirror_mode": {
    "name": "ipython",
    "version": 3
   },
   "file_extension": ".py",
   "mimetype": "text/x-python",
   "name": "python",
   "nbconvert_exporter": "python",
   "pygments_lexer": "ipython3",
   "version": "3.12.8"
  }
 },
 "nbformat": 4,
 "nbformat_minor": 5
}
