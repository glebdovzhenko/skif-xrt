{
 "cells": [
  {
   "cell_type": "markdown",
   "id": "08570f3d-38c7-4ffe-ae5a-01ab8db7b3f1",
   "metadata": {},
   "source": [
    "# Do I want this mirror?\n",
    "\n",
    "Calculating mirror reflectivity curves for a Si substrate and various coatings and energies"
   ]
  },
  {
   "cell_type": "markdown",
   "id": "ebad2285-107d-44a1-833e-f4eec46ba244",
   "metadata": {},
   "source": [
    "## Imports"
   ]
  },
  {
   "cell_type": "code",
   "execution_count": 1,
   "id": "dadb30eb-4283-41ce-9c9a-e2d6c3526863",
   "metadata": {},
   "outputs": [
    {
     "name": "stderr",
     "output_type": "stream",
     "text": [
      "/nix/store/br42xxsq58x87i1w4lh2vnz807fw84b3-python3.12-pytools-2025.1.1/lib/python3.12/site-packages/pytools/persistent_dict.py:52: RecommendedHashNotFoundWarning: Unable to import recommended hash 'siphash24.siphash13', falling back to 'hashlib.sha256'. Run 'python3 -m pip install siphash24' to install the recommended hash.\n",
      "  warn(\"Unable to import recommended hash 'siphash24.siphash13', \"\n"
     ]
    }
   ],
   "source": [
    "import numpy as np\n",
    "import pandas as pd\n",
    "import xrt.backends.raycing.materials as rm\n",
    "from xrt.backends.raycing.materials_elemental import Si, Pt, Rh, W, Cu, Ni, Cr, Ti, Zr, Be, In, Ir\n",
    "import plotly.graph_objects as go\n",
    "from plotly.subplots import make_subplots\n",
    "import plotly.io as pio\n",
    "pio.renderers.default = 'iframe'\n",
    "\n",
    "# working energies\n",
    "ens = [8000, 15000, 17000]  # eV\n",
    "# maximum length of a reasonably priced mirror\n",
    "mlen = 300  # mm"
   ]
  },
  {
   "cell_type": "markdown",
   "id": "90814c87-12ea-49b0-b13f-68e2af261e12",
   "metadata": {},
   "source": [
    "## Mirror reflectivity\n",
    "Here we compare a Si mirror with a Si + 100 AA Ir coating reflectivity.\n",
    "On the plots x axis is beam height, which is length of the mirror `mlen` multiplied by sine of the incidence angle, giving the maximum size of the reflected beam."
   ]
  },
  {
   "cell_type": "code",
   "execution_count": 2,
   "id": "c6cd1ab2-7e6d-452f-8b02-2955769a9b01",
   "metadata": {},
   "outputs": [
    {
     "name": "stderr",
     "output_type": "stream",
     "text": [
      "/nix/store/8lzyns3va00mpj110ja7z8b5j3dx5fzd-python3.12-xrt-1.6.0/lib/python3.12/site-packages/xrt/backends/raycing/materials.py:253: UserWarning:\n",
      "\n",
      "Reading `.npy` or `.npz` file required additional header parsing as it was created on Python 2. Save the file again to speed up loading and avoid this warning.\n",
      "\n",
      "/nix/store/8lzyns3va00mpj110ja7z8b5j3dx5fzd-python3.12-xrt-1.6.0/lib/python3.12/site-packages/xrt/backends/raycing/materials.py:254: UserWarning:\n",
      "\n",
      "Reading `.npy` or `.npz` file required additional header parsing as it was created on Python 2. Save the file again to speed up loading and avoid this warning.\n",
      "\n",
      "/nix/store/8lzyns3va00mpj110ja7z8b5j3dx5fzd-python3.12-xrt-1.6.0/lib/python3.12/site-packages/xrt/backends/raycing/materials.py:255: UserWarning:\n",
      "\n",
      "Reading `.npy` or `.npz` file required additional header parsing as it was created on Python 2. Save the file again to speed up loading and avoid this warning.\n",
      "\n",
      "/nix/store/i63lpv0lgmz4gmar81x5rxksyc2nm66f-python3.12-plotly-5.24.1/lib/python3.12/site-packages/plotly/graph_objs/_deprecations.py:378: DeprecationWarning:\n",
      "\n",
      "plotly.graph_objs.Line is deprecated.\n",
      "Please replace it with one of the following more specific types\n",
      "  - plotly.graph_objs.scatter.Line\n",
      "  - plotly.graph_objs.layout.shape.Line\n",
      "  - etc.\n",
      "\n",
      "\n"
     ]
    },
    {
     "data": {
      "text/html": [
       "<iframe\n",
       "    scrolling=\"no\"\n",
       "    width=\"100%\"\n",
       "    height=\"545px\"\n",
       "    src=\"iframe_figures/figure_2.html\"\n",
       "    frameborder=\"0\"\n",
       "    allowfullscreen\n",
       "></iframe>\n"
      ]
     },
     "metadata": {},
     "output_type": "display_data"
    }
   ],
   "source": [
    "substrate = Si(kind=\"mirror\")\n",
    "coating = Ir(kind=\"mirror\")\n",
    "coating_th = 100\n",
    "cMirror = rm.Coated(\n",
    "    coating=coating,\n",
    "    cThickness=coating_th,\n",
    "    substrate=substrate,\n",
    "    surfaceRoughness=30,\n",
    "    substRoughness=30,\n",
    ")\n",
    "\n",
    "theta = np.linspace(np.radians(0.01), np.radians(0.3), 1000)\n",
    "beam_height = mlen * np.sin(theta)\n",
    "\n",
    "fig = make_subplots(rows=2, cols=1)\n",
    "for en in ens:\n",
    "    rs, rp = substrate.get_amplitude(en, np.sin(theta))[0:2]\n",
    "    fig.add_trace(go.Line(name=f\"{substrate.name} {en//1000} keV\", x=beam_height, y=np.abs(rs)**2))\n",
    "fig.update_layout(\n",
    "    title=dict(text=f\"{coating_th // 10} nm {coating.name} coating\"),\n",
    "    xaxis=dict(title=dict(text=\"Beam height\")),\n",
    "    yaxis=dict(title=dict(text=\"Reflectivity\"))\n",
    ")\n",
    "for en in ens:\n",
    "    rs, rp = cMirror.get_amplitude(en, np.sin(theta))[0:2]\n",
    "    fig.add_trace(go.Line(name=f\"{substrate.name}+{coating.name} {en//1000} keV\", x=beam_height, y=np.abs(rs)**2), row=2,col=1)\n",
    "fig.show()"
   ]
  },
  {
   "cell_type": "code",
   "execution_count": null,
   "id": "aec03c14-d755-4c06-8a40-f95085d67c63",
   "metadata": {},
   "outputs": [],
   "source": []
  }
 ],
 "metadata": {
  "kernelspec": {
   "display_name": "Python 3 (ipykernel)",
   "language": "python",
   "name": "python3"
  },
  "language_info": {
   "codemirror_mode": {
    "name": "ipython",
    "version": 3
   },
   "file_extension": ".py",
   "mimetype": "text/x-python",
   "name": "python",
   "nbconvert_exporter": "python",
   "pygments_lexer": "ipython3",
   "version": "3.12.7"
  }
 },
 "nbformat": 4,
 "nbformat_minor": 5
}
